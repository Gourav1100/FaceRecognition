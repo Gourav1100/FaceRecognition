{
 "cells": [
  {
   "cell_type": "code",
   "execution_count": null,
   "id": "24fe17bc-0494-4406-82f7-44d75bf0ba5c",
   "metadata": {},
   "outputs": [],
   "source": [
    "# AI face regonition software"
   ]
  }
 ],
 "metadata": {
  "kernelspec": {
   "display_name": "Python 3 (ipykernel)",
   "language": "python",
   "name": "python3"
  },
  "language_info": {
   "codemirror_mode": {
    "name": "ipython",
    "version": 3
   },
   "file_extension": ".py",
   "mimetype": "text/x-python",
   "name": "python",
   "nbconvert_exporter": "python",
   "pygments_lexer": "ipython3",
   "version": "3.10.0"
  }
 },
 "nbformat": 4,
 "nbformat_minor": 5
}
